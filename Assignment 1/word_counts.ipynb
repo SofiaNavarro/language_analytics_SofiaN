{
 "cells": [
  {
   "cell_type": "markdown",
   "metadata": {},
   "source": [
    "## Assignment 1: Basic scripting with Python"
   ]
  },
  {
   "cell_type": "markdown",
   "metadata": {},
   "source": [
    "#### Author: Sofia Navarro\n",
    "Date: 4/2/2021"
   ]
  },
  {
   "cell_type": "code",
   "execution_count": 1,
   "metadata": {},
   "outputs": [],
   "source": [
    "import os"
   ]
  },
  {
   "cell_type": "code",
   "execution_count": 2,
   "metadata": {},
   "outputs": [],
   "source": [
    "directory = os.path.join(\"..\", \"data\", \"100_english_novels\", \"corpus\") # Make a filepath that points to location of novels\n",
    "novels_names = os.listdir(directory) # Make a list of the file names\n",
    "novels_names.sort() # Sort novel titles (they weren't sorted by default)\n",
    "outpath = os.path.join(\"..\", \"data\", \"100_english_novels\", \"word_count.csv\")"
   ]
  },
  {
   "cell_type": "code",
   "execution_count": 40,
   "metadata": {},
   "outputs": [],
   "source": [
    "titles = \" \".join([\"filename\", \"unique_words\", \"total_words\"]) # creates titles for the list\n",
    "\n",
    "with open(outpath, \"w\", encoding=\"utf-8\") as file:  # save titles in the outpath\n",
    "    file.write(titles + \"\\n\")\n",
    " \n",
    "for novel in novels_names:   # A forloop that goes through every novel in the list defined above\n",
    "    novel_path = os.path.join(directory, novel) # Point to directory and create variable 'novel'\n",
    "    with open(novel_path, \"r\", encoding=\"utf-8\") as file: # Open novel folder\n",
    "        each_novel = file.read() # Each novel in folder is 'read'\n",
    "        split_novel = each_novel.split() # Split content of each novel on whitespace\n",
    "        unique_words = set(split_novel) # Convert all elements in split_novel to a set, so each element only occurs once\n",
    "        amount_words = [novel, str(len(unique_words)), str(len(split_novel))] # Print total amount of unique words & total amount of words\n",
    "        save_file = \" \".join(amount_words) # append novel title + total words + unique words in a string\n",
    "        with open(outpath, \"a\", encoding=\"utf-8\") as file: # save the whole list in the outpath\n",
    "            file.write(save_file + \"\\n\")\n",
    "    "
   ]
  }
 ],
 "metadata": {
  "kernelspec": {
   "display_name": "lang101",
   "language": "python",
   "name": "lang101"
  },
  "language_info": {
   "codemirror_mode": {
    "name": "ipython",
    "version": 3
   },
   "file_extension": ".py",
   "mimetype": "text/x-python",
   "name": "python",
   "nbconvert_exporter": "python",
   "pygments_lexer": "ipython3",
   "version": "3.6.9"
  }
 },
 "nbformat": 4,
 "nbformat_minor": 4
}
